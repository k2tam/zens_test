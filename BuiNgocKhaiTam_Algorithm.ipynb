{
  "nbformat": 4,
  "nbformat_minor": 0,
  "metadata": {
    "colab": {
      "provenance": []
    },
    "kernelspec": {
      "name": "python3",
      "display_name": "Python 3"
    },
    "language_info": {
      "name": "python"
    }
  },
  "cells": [
    {
      "cell_type": "code",
      "execution_count": 9,
      "metadata": {
        "id": "DE7zf4WRRSJ1"
      },
      "outputs": [],
      "source": [
        "def miniMaxSum(arr):\n",
        "  size_arr = len(arr)\n",
        "  minSum = sum(arr[0:size_arr-1])\n",
        "  maxSum = sum(arr[1:size_arr])\n",
        "\n",
        "\n",
        "  print(minSum, maxSum)\n",
        "\n",
        "\n",
        "\n",
        "\n",
        "def countToltalOfArr(arr):\n",
        "  return len(arr)\n",
        "\n",
        "def findMin(arr):\n",
        "  min = arr[0]\n",
        "  for i in range(1,len(arr),1):\n",
        "    if arr[i] < min:\n",
        "      min = arr[i]\n",
        "\n",
        "  return min\n",
        "\n",
        "def findMax(arr):\n",
        "  max = arr[0]\n",
        "  for i in range(1,len(arr),1):\n",
        "    if arr[i] > max:\n",
        "      max = arr[i]\n",
        "\n",
        "  return max\n",
        "\n",
        "\n",
        "def findEven(arr):\n",
        "  result = []\n",
        "  for i in arr:\n",
        "    if i % 2 == 0:\n",
        "      result.append(i)\n",
        "\n",
        "  return result\n",
        "\n",
        "def findOdd(arr):\n",
        "  result = []\n",
        "  for i in arr:\n",
        "    if i % 2 != 0:\n",
        "      result.append(i)\n",
        "\n",
        "  return result\n"
      ]
    },
    {
      "cell_type": "code",
      "source": [
        "arr = [1,3,5,12,7,9]\n",
        "\n",
        "\n",
        "miniMaxSum(arr)\n",
        "print(\"Total of arr: {}\".format(countToltalOfArr(arr)))\n",
        "print(\"Min of arr: {}\".format(findMin(arr)))\n",
        "print(\"Max of arr: {}\".format(findMax(arr)))\n",
        "print(\"Even elements of arr: {}\".format(findEven(arr)))\n",
        "print(\"Odd elements of arr: {}\".format(findOdd(arr)))"
      ],
      "metadata": {
        "colab": {
          "base_uri": "https://localhost:8080/"
        },
        "id": "F2150fjRRmr4",
        "outputId": "a0062f41-81af-47a6-f1b4-089c5e42e357"
      },
      "execution_count": 11,
      "outputs": [
        {
          "output_type": "stream",
          "name": "stdout",
          "text": [
            "28 36\n",
            "Total of arr: 6\n",
            "Min of arr: 1\n",
            "Max of arr: 12\n",
            "Even elements of arr: [12]\n",
            "Odd elements of arr: [1, 3, 5, 7, 9]\n"
          ]
        }
      ]
    }
  ]
}